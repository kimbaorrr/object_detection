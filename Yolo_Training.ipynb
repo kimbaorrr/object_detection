{
  "nbformat": 4,
  "nbformat_minor": 0,
  "metadata": {
    "colab": {
      "provenance": [],
      "gpuType": "T4",
      "collapsed_sections": [
        "5uInfjVHmXR0",
        "VmHdZyKBmQnV"
      ],
      "mount_file_id": "1hQC8FC8docd5u1XXhUPzS2wjIrJC_8_g",
      "authorship_tag": "ABX9TyMDrGgiYzOCTIFHqYtNPwv6",
      "include_colab_link": true
    },
    "kernelspec": {
      "name": "python3",
      "display_name": "Python 3"
    },
    "language_info": {
      "name": "python"
    },
    "accelerator": "GPU"
  },
  "cells": [
    {
      "cell_type": "markdown",
      "metadata": {
        "id": "view-in-github",
        "colab_type": "text"
      },
      "source": [
        "<a href=\"https://colab.research.google.com/github/kimbaorrr/object_detection/blob/main/Yolo_Training.ipynb\" target=\"_parent\"><img src=\"https://colab.research.google.com/assets/colab-badge.svg\" alt=\"Open In Colab\"/></a>"
      ]
    },
    {
      "cell_type": "code",
      "source": [
        "!apt update && apt install ffmpeg libsm6 libxext6 -y\n",
        "!pip install -U roboflow ultralytics"
      ],
      "metadata": {
        "id": "FaLjLHnALRME"
      },
      "execution_count": null,
      "outputs": []
    },
    {
      "cell_type": "code",
      "source": [
        "from ultralytics import YOLO\n",
        "from IPython.display import display, Image\n",
        "from glob import glob\n",
        "from roboflow import Roboflow\n",
        "import os\n",
        "import random\n",
        "import math\n",
        "import numpy as np"
      ],
      "metadata": {
        "id": "4dXERYBDZK17"
      },
      "execution_count": null,
      "outputs": []
    },
    {
      "cell_type": "code",
      "source": [
        "# Thiết đặt các biến môi trường\n",
        "project_name = 'fire_detection' # @param {type:\"string\"}\n",
        "home_path = '/content/drive/MyDrive/Yolo' # @param {type:\"string\"}\n",
        "yolo_mode = 'detect' # @param [\"detect\", \"classify\", \"segment\"] {type:\"string\"}\n",
        "# Chọn thư mục hoạt động\n",
        "%cd {home_path}"
      ],
      "metadata": {
        "id": "2bKX5Y4-2L5C",
        "cellView": "form"
      },
      "execution_count": null,
      "outputs": []
    },
    {
      "cell_type": "markdown",
      "source": [
        "# Train từ bộ dữ liệu Roboflow\n"
      ],
      "metadata": {
        "id": "5uInfjVHmXR0"
      }
    },
    {
      "cell_type": "code",
      "source": [
        "# Chọn thư mục hoạt động & tạo thư mục chứa dataset của project\n",
        "!mkdir roboflow\n",
        "\n",
        "%cd roboflow\n",
        "!mkdir {project_name}"
      ],
      "metadata": {
        "id": "oVC_4sbflBmd"
      },
      "execution_count": null,
      "outputs": []
    },
    {
      "cell_type": "code",
      "source": [
        "# Login & tải data format theo model yolov8\n",
        "%cd {project_name}\n",
        "\n",
        "!roboflow login\n",
        "!roboflow download -f 'yolov8' -l 'data' 'my-workspace-jlq0f/motorbike-license-plate-detection/7'"
      ],
      "metadata": {
        "id": "ZXDepgig5C1z"
      },
      "execution_count": null,
      "outputs": []
    },
    {
      "cell_type": "code",
      "source": [
        "# Edit lại file data.yaml\n",
        "\n",
        "!sed -i 's|train:.*|train: {home_path}/roboflow/{project_name}/data/train/images|' data/data.yaml\n",
        "!sed -i 's|val:.*|val: {home_path}/roboflow/{project_name}/data/valid/images|' data/data.yaml\n",
        "!sed -i 's|test:.*|test: {home_path}/roboflow/{project_name}/data/test/images|' data/data.yaml"
      ],
      "metadata": {
        "id": "lQgItLxE7QLA"
      },
      "execution_count": null,
      "outputs": []
    },
    {
      "cell_type": "code",
      "source": [
        "# Bắt đầu Train\n",
        "\n",
        "!yolo {yolo_mode} mode=train data=data/data.yaml epochs=50 imgsz=640 patience=10 optimizer=AdamW batch=-1 exist_ok=True plots=True dropout=0.10"
      ],
      "metadata": {
        "id": "MLc9-ozPMLso"
      },
      "execution_count": null,
      "outputs": []
    },
    {
      "cell_type": "code",
      "source": [
        "# Đánh giá quá trình Train\n",
        "\n",
        "!kill $(ps -e | grep 'tensorboard' | awk '{print $1}')\n",
        "%load_ext tensorboard\n",
        "%tensorboard --logdir runs/train3"
      ],
      "metadata": {
        "id": "5wSxncKhkKD0"
      },
      "execution_count": null,
      "outputs": []
    },
    {
      "cell_type": "code",
      "source": [
        "# Đánh giá mô hình qua tập Valid\n",
        "\n",
        "!yolo {yolo_mode} mode=val model=runs/detect/train3/weights/best.pt data=data/data.yaml save_json=True"
      ],
      "metadata": {
        "id": "2MIZ1EZBMvcc"
      },
      "execution_count": null,
      "outputs": []
    },
    {
      "cell_type": "code",
      "source": [
        "# Dự đoán thử 10 ảnh từ tập Valid/Test\n",
        "!yolo {yolo_mode} mode=predict model=runs/detect/train/weights/best.pt conf=0.25 source=data/test/images save=True\n",
        "\n",
        "for image_path in glob(f'runs/detect/predict/*.jpg')[:10]:\n",
        "      display(Image(filename=image_path, width=400))\n",
        "      print('\\n')"
      ],
      "metadata": {
        "id": "yc-7lcojroiJ"
      },
      "execution_count": null,
      "outputs": []
    },
    {
      "cell_type": "markdown",
      "source": [
        "# Train từ bộ dữ liệu ngoài"
      ],
      "metadata": {
        "id": "VmHdZyKBmQnV"
      }
    },
    {
      "cell_type": "code",
      "source": [
        "# Chọn thư mục hoạt động & tạo các thư mục cần thiết\n",
        "!mkdir custom_data\n",
        "\n",
        "%cd custom_data\n",
        "!mkdir {project_name}\n",
        "!mkdir {project_name}/data"
      ],
      "metadata": {
        "id": "bpM22H58Sh1j"
      },
      "execution_count": null,
      "outputs": []
    },
    {
      "cell_type": "code",
      "source": [
        "# Giải nén tập dữ liệu\n",
        "!unzip -jodnq {project_name}/data fire.zip"
      ],
      "metadata": {
        "id": "fHe35LPy9EVx"
      },
      "execution_count": null,
      "outputs": []
    },
    {
      "cell_type": "code",
      "source": [
        "# Xóa & khởi tạo lại tệp data.yaml và yolo.names\n",
        "%cd {project_name}\n",
        "\n",
        "!rm -f data.yaml\n",
        "\n",
        "!echo 'train: {home_path}/custom_data/{project_name}/train.txt' >> data.yaml\n",
        "!echo 'val: {home_path}/custom_data/{project_name}/val.txt' >> data.yaml\n",
        "!echo 'names: {home_path}/custom_data/{project_name}/yolo.names' >> data.yaml\n",
        "\n",
        "!echo 'fire' >> yolo.names\n"
      ],
      "metadata": {
        "id": "s6RQE5JOUIEU"
      },
      "execution_count": null,
      "outputs": []
    },
    {
      "cell_type": "code",
      "source": [
        "# Tách dữ liệu để Train/Test\n",
        "\n",
        "!rm -f 'train.txt' 'val.txt'\n",
        "\n",
        "val_split = .20\n",
        "files = []\n",
        "\n",
        "for ext in [\"*.png\", \"*.jpeg\", \"*.jpg\"]:\n",
        "  image_files = glob(os.path.join('data', ext))\n",
        "  files += image_files\n",
        "\n",
        "nb_val = math.floor(len(files)*val_split)\n",
        "rand_idx = np.random.randint(0, len(files), nb_val)\n",
        "\n",
        "# Tạo file train.txt\n",
        "with open(\"train.txt\", \"w\") as f:\n",
        "  for idx in np.arange(len(files)):\n",
        "    if (os.path.exists(files[idx][:-3] + \"txt\")):\n",
        "      f.write(files[idx]+'\\n')\n",
        "\n",
        "# Tạo file val.txt\n",
        "with open(\"val.txt\", \"w\") as f:\n",
        "  for idx in np.arange(len(files)):\n",
        "    if (idx in rand_idx) and (os.path.exists(files[idx][:-3] + \"txt\")):\n",
        "      f.write(files[idx]+'\\n')\n",
        "\n",
        "print('THỐNG KÊ DATASET')\n",
        "print(f'TRAIN: {len(files) - nb_val}')\n",
        "print(f'VAL: {nb_val}')\n"
      ],
      "metadata": {
        "id": "6ztXDzrEh_3r"
      },
      "execution_count": null,
      "outputs": []
    },
    {
      "cell_type": "code",
      "source": [
        "# Bắt đầu Train\n",
        "\n",
        "!yolo {yolo_mode} mode=train model=yolov8n.pt data=data.yaml epochs=50 imgsz=640 patience=10 optimizer=AdamW batch=-1 exist_ok=True plots=True dropout=0.10"
      ],
      "metadata": {
        "id": "4JIWp-03l-7U"
      },
      "execution_count": null,
      "outputs": []
    },
    {
      "cell_type": "code",
      "source": [
        "# Đánh giá quá trình Train\n",
        "\n",
        "!kill $(ps -e | grep 'tensorboard' | awk '{print $1}')\n",
        "%load_ext tensorboard\n",
        "%tensorboard --logdir runs/detect/train"
      ],
      "metadata": {
        "id": "b1EDz49aYQs7"
      },
      "execution_count": null,
      "outputs": []
    }
  ]
}